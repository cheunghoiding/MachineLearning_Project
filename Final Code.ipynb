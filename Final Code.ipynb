{
 "cells": [
  {
   "cell_type": "code",
   "execution_count": 1,
   "id": "04d0d41b",
   "metadata": {},
   "outputs": [],
   "source": [
    "import numpy as np # linear algebra\n",
    "import pandas as pd # data processing, CSV file I/O (e.g. pd.read_csv)\n",
    "import matplotlib.pyplot as plt \n",
    "import seaborn as sns\n",
    "import warnings\n",
    "import os\n",
    "import plotly.express as px"
   ]
  },
  {
   "cell_type": "code",
   "execution_count": 2,
   "id": "1b3ec9e4",
   "metadata": {},
   "outputs": [],
   "source": [
    "warnings.simplefilter(action='ignore')"
   ]
  },
  {
   "cell_type": "code",
   "execution_count": 3,
   "id": "20428825",
   "metadata": {},
   "outputs": [],
   "source": [
    "df = pd.read_csv(\"Car_Insurance_Claim.csv\")"
   ]
  },
  {
   "cell_type": "code",
   "execution_count": 4,
   "id": "449f0f1b",
   "metadata": {},
   "outputs": [
    {
     "data": {
      "text/plain": [
       "(10000, 19)"
      ]
     },
     "execution_count": 4,
     "metadata": {},
     "output_type": "execute_result"
    }
   ],
   "source": [
    "df.shape"
   ]
  },
  {
   "cell_type": "code",
   "execution_count": 5,
   "id": "ca1f35de",
   "metadata": {},
   "outputs": [
    {
     "name": "stdout",
     "output_type": "stream",
     "text": [
      "<class 'pandas.core.frame.DataFrame'>\n",
      "RangeIndex: 10000 entries, 0 to 9999\n",
      "Data columns (total 19 columns):\n",
      " #   Column               Non-Null Count  Dtype  \n",
      "---  ------               --------------  -----  \n",
      " 0   ID                   10000 non-null  int64  \n",
      " 1   AGE                  10000 non-null  object \n",
      " 2   GENDER               10000 non-null  object \n",
      " 3   RACE                 10000 non-null  object \n",
      " 4   DRIVING_EXPERIENCE   10000 non-null  object \n",
      " 5   EDUCATION            10000 non-null  object \n",
      " 6   INCOME               10000 non-null  object \n",
      " 7   CREDIT_SCORE         9018 non-null   float64\n",
      " 8   VEHICLE_OWNERSHIP    10000 non-null  float64\n",
      " 9   VEHICLE_YEAR         10000 non-null  object \n",
      " 10  MARRIED              10000 non-null  float64\n",
      " 11  CHILDREN             10000 non-null  float64\n",
      " 12  POSTAL_CODE          10000 non-null  int64  \n",
      " 13  ANNUAL_MILEAGE       9043 non-null   float64\n",
      " 14  VEHICLE_TYPE         10000 non-null  object \n",
      " 15  SPEEDING_VIOLATIONS  10000 non-null  int64  \n",
      " 16  DUIS                 10000 non-null  int64  \n",
      " 17  PAST_ACCIDENTS       10000 non-null  int64  \n",
      " 18  OUTCOME              10000 non-null  float64\n",
      "dtypes: float64(6), int64(5), object(8)\n",
      "memory usage: 1.4+ MB\n"
     ]
    }
   ],
   "source": [
    "df.info()"
   ]
  },
  {
   "cell_type": "code",
   "execution_count": 6,
   "id": "77fda5c2",
   "metadata": {},
   "outputs": [
    {
     "data": {
      "text/html": [
       "<div>\n",
       "<style scoped>\n",
       "    .dataframe tbody tr th:only-of-type {\n",
       "        vertical-align: middle;\n",
       "    }\n",
       "\n",
       "    .dataframe tbody tr th {\n",
       "        vertical-align: top;\n",
       "    }\n",
       "\n",
       "    .dataframe thead th {\n",
       "        text-align: right;\n",
       "    }\n",
       "</style>\n",
       "<table border=\"1\" class=\"dataframe\">\n",
       "  <thead>\n",
       "    <tr style=\"text-align: right;\">\n",
       "      <th></th>\n",
       "      <th>count</th>\n",
       "      <th>unique</th>\n",
       "      <th>top</th>\n",
       "      <th>freq</th>\n",
       "      <th>mean</th>\n",
       "      <th>std</th>\n",
       "      <th>min</th>\n",
       "      <th>25%</th>\n",
       "      <th>50%</th>\n",
       "      <th>75%</th>\n",
       "      <th>max</th>\n",
       "    </tr>\n",
       "  </thead>\n",
       "  <tbody>\n",
       "    <tr>\n",
       "      <th>ID</th>\n",
       "      <td>10000.0</td>\n",
       "      <td>NaN</td>\n",
       "      <td>NaN</td>\n",
       "      <td>NaN</td>\n",
       "      <td>500521.9068</td>\n",
       "      <td>290030.768758</td>\n",
       "      <td>101.0</td>\n",
       "      <td>249638.5</td>\n",
       "      <td>501777.0</td>\n",
       "      <td>753974.5</td>\n",
       "      <td>999976.0</td>\n",
       "    </tr>\n",
       "    <tr>\n",
       "      <th>AGE</th>\n",
       "      <td>10000</td>\n",
       "      <td>4</td>\n",
       "      <td>26-39</td>\n",
       "      <td>3063</td>\n",
       "      <td>NaN</td>\n",
       "      <td>NaN</td>\n",
       "      <td>NaN</td>\n",
       "      <td>NaN</td>\n",
       "      <td>NaN</td>\n",
       "      <td>NaN</td>\n",
       "      <td>NaN</td>\n",
       "    </tr>\n",
       "    <tr>\n",
       "      <th>GENDER</th>\n",
       "      <td>10000</td>\n",
       "      <td>2</td>\n",
       "      <td>female</td>\n",
       "      <td>5010</td>\n",
       "      <td>NaN</td>\n",
       "      <td>NaN</td>\n",
       "      <td>NaN</td>\n",
       "      <td>NaN</td>\n",
       "      <td>NaN</td>\n",
       "      <td>NaN</td>\n",
       "      <td>NaN</td>\n",
       "    </tr>\n",
       "    <tr>\n",
       "      <th>RACE</th>\n",
       "      <td>10000</td>\n",
       "      <td>2</td>\n",
       "      <td>majority</td>\n",
       "      <td>9012</td>\n",
       "      <td>NaN</td>\n",
       "      <td>NaN</td>\n",
       "      <td>NaN</td>\n",
       "      <td>NaN</td>\n",
       "      <td>NaN</td>\n",
       "      <td>NaN</td>\n",
       "      <td>NaN</td>\n",
       "    </tr>\n",
       "    <tr>\n",
       "      <th>DRIVING_EXPERIENCE</th>\n",
       "      <td>10000</td>\n",
       "      <td>4</td>\n",
       "      <td>0-9y</td>\n",
       "      <td>3530</td>\n",
       "      <td>NaN</td>\n",
       "      <td>NaN</td>\n",
       "      <td>NaN</td>\n",
       "      <td>NaN</td>\n",
       "      <td>NaN</td>\n",
       "      <td>NaN</td>\n",
       "      <td>NaN</td>\n",
       "    </tr>\n",
       "    <tr>\n",
       "      <th>EDUCATION</th>\n",
       "      <td>10000</td>\n",
       "      <td>3</td>\n",
       "      <td>high school</td>\n",
       "      <td>4157</td>\n",
       "      <td>NaN</td>\n",
       "      <td>NaN</td>\n",
       "      <td>NaN</td>\n",
       "      <td>NaN</td>\n",
       "      <td>NaN</td>\n",
       "      <td>NaN</td>\n",
       "      <td>NaN</td>\n",
       "    </tr>\n",
       "    <tr>\n",
       "      <th>INCOME</th>\n",
       "      <td>10000</td>\n",
       "      <td>4</td>\n",
       "      <td>upper class</td>\n",
       "      <td>4336</td>\n",
       "      <td>NaN</td>\n",
       "      <td>NaN</td>\n",
       "      <td>NaN</td>\n",
       "      <td>NaN</td>\n",
       "      <td>NaN</td>\n",
       "      <td>NaN</td>\n",
       "      <td>NaN</td>\n",
       "    </tr>\n",
       "    <tr>\n",
       "      <th>CREDIT_SCORE</th>\n",
       "      <td>9018.0</td>\n",
       "      <td>NaN</td>\n",
       "      <td>NaN</td>\n",
       "      <td>NaN</td>\n",
       "      <td>0.515813</td>\n",
       "      <td>0.137688</td>\n",
       "      <td>0.053358</td>\n",
       "      <td>0.417191</td>\n",
       "      <td>0.525033</td>\n",
       "      <td>0.618312</td>\n",
       "      <td>0.960819</td>\n",
       "    </tr>\n",
       "    <tr>\n",
       "      <th>VEHICLE_OWNERSHIP</th>\n",
       "      <td>10000.0</td>\n",
       "      <td>NaN</td>\n",
       "      <td>NaN</td>\n",
       "      <td>NaN</td>\n",
       "      <td>0.697</td>\n",
       "      <td>0.459578</td>\n",
       "      <td>0.0</td>\n",
       "      <td>0.0</td>\n",
       "      <td>1.0</td>\n",
       "      <td>1.0</td>\n",
       "      <td>1.0</td>\n",
       "    </tr>\n",
       "    <tr>\n",
       "      <th>VEHICLE_YEAR</th>\n",
       "      <td>10000</td>\n",
       "      <td>2</td>\n",
       "      <td>before 2015</td>\n",
       "      <td>6967</td>\n",
       "      <td>NaN</td>\n",
       "      <td>NaN</td>\n",
       "      <td>NaN</td>\n",
       "      <td>NaN</td>\n",
       "      <td>NaN</td>\n",
       "      <td>NaN</td>\n",
       "      <td>NaN</td>\n",
       "    </tr>\n",
       "    <tr>\n",
       "      <th>MARRIED</th>\n",
       "      <td>10000.0</td>\n",
       "      <td>NaN</td>\n",
       "      <td>NaN</td>\n",
       "      <td>NaN</td>\n",
       "      <td>0.4982</td>\n",
       "      <td>0.500022</td>\n",
       "      <td>0.0</td>\n",
       "      <td>0.0</td>\n",
       "      <td>0.0</td>\n",
       "      <td>1.0</td>\n",
       "      <td>1.0</td>\n",
       "    </tr>\n",
       "    <tr>\n",
       "      <th>CHILDREN</th>\n",
       "      <td>10000.0</td>\n",
       "      <td>NaN</td>\n",
       "      <td>NaN</td>\n",
       "      <td>NaN</td>\n",
       "      <td>0.6888</td>\n",
       "      <td>0.463008</td>\n",
       "      <td>0.0</td>\n",
       "      <td>0.0</td>\n",
       "      <td>1.0</td>\n",
       "      <td>1.0</td>\n",
       "      <td>1.0</td>\n",
       "    </tr>\n",
       "    <tr>\n",
       "      <th>POSTAL_CODE</th>\n",
       "      <td>10000.0</td>\n",
       "      <td>NaN</td>\n",
       "      <td>NaN</td>\n",
       "      <td>NaN</td>\n",
       "      <td>19864.5484</td>\n",
       "      <td>18915.613855</td>\n",
       "      <td>10238.0</td>\n",
       "      <td>10238.0</td>\n",
       "      <td>10238.0</td>\n",
       "      <td>32765.0</td>\n",
       "      <td>92101.0</td>\n",
       "    </tr>\n",
       "    <tr>\n",
       "      <th>ANNUAL_MILEAGE</th>\n",
       "      <td>9043.0</td>\n",
       "      <td>NaN</td>\n",
       "      <td>NaN</td>\n",
       "      <td>NaN</td>\n",
       "      <td>11697.003207</td>\n",
       "      <td>2818.434528</td>\n",
       "      <td>2000.0</td>\n",
       "      <td>10000.0</td>\n",
       "      <td>12000.0</td>\n",
       "      <td>14000.0</td>\n",
       "      <td>22000.0</td>\n",
       "    </tr>\n",
       "    <tr>\n",
       "      <th>VEHICLE_TYPE</th>\n",
       "      <td>10000</td>\n",
       "      <td>2</td>\n",
       "      <td>sedan</td>\n",
       "      <td>9523</td>\n",
       "      <td>NaN</td>\n",
       "      <td>NaN</td>\n",
       "      <td>NaN</td>\n",
       "      <td>NaN</td>\n",
       "      <td>NaN</td>\n",
       "      <td>NaN</td>\n",
       "      <td>NaN</td>\n",
       "    </tr>\n",
       "    <tr>\n",
       "      <th>SPEEDING_VIOLATIONS</th>\n",
       "      <td>10000.0</td>\n",
       "      <td>NaN</td>\n",
       "      <td>NaN</td>\n",
       "      <td>NaN</td>\n",
       "      <td>1.4829</td>\n",
       "      <td>2.241966</td>\n",
       "      <td>0.0</td>\n",
       "      <td>0.0</td>\n",
       "      <td>0.0</td>\n",
       "      <td>2.0</td>\n",
       "      <td>22.0</td>\n",
       "    </tr>\n",
       "    <tr>\n",
       "      <th>DUIS</th>\n",
       "      <td>10000.0</td>\n",
       "      <td>NaN</td>\n",
       "      <td>NaN</td>\n",
       "      <td>NaN</td>\n",
       "      <td>0.2392</td>\n",
       "      <td>0.55499</td>\n",
       "      <td>0.0</td>\n",
       "      <td>0.0</td>\n",
       "      <td>0.0</td>\n",
       "      <td>0.0</td>\n",
       "      <td>6.0</td>\n",
       "    </tr>\n",
       "    <tr>\n",
       "      <th>PAST_ACCIDENTS</th>\n",
       "      <td>10000.0</td>\n",
       "      <td>NaN</td>\n",
       "      <td>NaN</td>\n",
       "      <td>NaN</td>\n",
       "      <td>1.0563</td>\n",
       "      <td>1.652454</td>\n",
       "      <td>0.0</td>\n",
       "      <td>0.0</td>\n",
       "      <td>0.0</td>\n",
       "      <td>2.0</td>\n",
       "      <td>15.0</td>\n",
       "    </tr>\n",
       "    <tr>\n",
       "      <th>OUTCOME</th>\n",
       "      <td>10000.0</td>\n",
       "      <td>NaN</td>\n",
       "      <td>NaN</td>\n",
       "      <td>NaN</td>\n",
       "      <td>0.3133</td>\n",
       "      <td>0.463858</td>\n",
       "      <td>0.0</td>\n",
       "      <td>0.0</td>\n",
       "      <td>0.0</td>\n",
       "      <td>1.0</td>\n",
       "      <td>1.0</td>\n",
       "    </tr>\n",
       "  </tbody>\n",
       "</table>\n",
       "</div>"
      ],
      "text/plain": [
       "                       count unique          top  freq          mean  \\\n",
       "ID                   10000.0    NaN          NaN   NaN   500521.9068   \n",
       "AGE                    10000      4        26-39  3063           NaN   \n",
       "GENDER                 10000      2       female  5010           NaN   \n",
       "RACE                   10000      2     majority  9012           NaN   \n",
       "DRIVING_EXPERIENCE     10000      4         0-9y  3530           NaN   \n",
       "EDUCATION              10000      3  high school  4157           NaN   \n",
       "INCOME                 10000      4  upper class  4336           NaN   \n",
       "CREDIT_SCORE          9018.0    NaN          NaN   NaN      0.515813   \n",
       "VEHICLE_OWNERSHIP    10000.0    NaN          NaN   NaN         0.697   \n",
       "VEHICLE_YEAR           10000      2  before 2015  6967           NaN   \n",
       "MARRIED              10000.0    NaN          NaN   NaN        0.4982   \n",
       "CHILDREN             10000.0    NaN          NaN   NaN        0.6888   \n",
       "POSTAL_CODE          10000.0    NaN          NaN   NaN    19864.5484   \n",
       "ANNUAL_MILEAGE        9043.0    NaN          NaN   NaN  11697.003207   \n",
       "VEHICLE_TYPE           10000      2        sedan  9523           NaN   \n",
       "SPEEDING_VIOLATIONS  10000.0    NaN          NaN   NaN        1.4829   \n",
       "DUIS                 10000.0    NaN          NaN   NaN        0.2392   \n",
       "PAST_ACCIDENTS       10000.0    NaN          NaN   NaN        1.0563   \n",
       "OUTCOME              10000.0    NaN          NaN   NaN        0.3133   \n",
       "\n",
       "                               std       min       25%       50%       75%  \\\n",
       "ID                   290030.768758     101.0  249638.5  501777.0  753974.5   \n",
       "AGE                            NaN       NaN       NaN       NaN       NaN   \n",
       "GENDER                         NaN       NaN       NaN       NaN       NaN   \n",
       "RACE                           NaN       NaN       NaN       NaN       NaN   \n",
       "DRIVING_EXPERIENCE             NaN       NaN       NaN       NaN       NaN   \n",
       "EDUCATION                      NaN       NaN       NaN       NaN       NaN   \n",
       "INCOME                         NaN       NaN       NaN       NaN       NaN   \n",
       "CREDIT_SCORE              0.137688  0.053358  0.417191  0.525033  0.618312   \n",
       "VEHICLE_OWNERSHIP         0.459578       0.0       0.0       1.0       1.0   \n",
       "VEHICLE_YEAR                   NaN       NaN       NaN       NaN       NaN   \n",
       "MARRIED                   0.500022       0.0       0.0       0.0       1.0   \n",
       "CHILDREN                  0.463008       0.0       0.0       1.0       1.0   \n",
       "POSTAL_CODE           18915.613855   10238.0   10238.0   10238.0   32765.0   \n",
       "ANNUAL_MILEAGE         2818.434528    2000.0   10000.0   12000.0   14000.0   \n",
       "VEHICLE_TYPE                   NaN       NaN       NaN       NaN       NaN   \n",
       "SPEEDING_VIOLATIONS       2.241966       0.0       0.0       0.0       2.0   \n",
       "DUIS                       0.55499       0.0       0.0       0.0       0.0   \n",
       "PAST_ACCIDENTS            1.652454       0.0       0.0       0.0       2.0   \n",
       "OUTCOME                   0.463858       0.0       0.0       0.0       1.0   \n",
       "\n",
       "                          max  \n",
       "ID                   999976.0  \n",
       "AGE                       NaN  \n",
       "GENDER                    NaN  \n",
       "RACE                      NaN  \n",
       "DRIVING_EXPERIENCE        NaN  \n",
       "EDUCATION                 NaN  \n",
       "INCOME                    NaN  \n",
       "CREDIT_SCORE         0.960819  \n",
       "VEHICLE_OWNERSHIP         1.0  \n",
       "VEHICLE_YEAR              NaN  \n",
       "MARRIED                   1.0  \n",
       "CHILDREN                  1.0  \n",
       "POSTAL_CODE           92101.0  \n",
       "ANNUAL_MILEAGE        22000.0  \n",
       "VEHICLE_TYPE              NaN  \n",
       "SPEEDING_VIOLATIONS      22.0  \n",
       "DUIS                      6.0  \n",
       "PAST_ACCIDENTS           15.0  \n",
       "OUTCOME                   1.0  "
      ]
     },
     "execution_count": 6,
     "metadata": {},
     "output_type": "execute_result"
    }
   ],
   "source": [
    "df.describe(include=\"all\").T"
   ]
  },
  {
   "cell_type": "code",
   "execution_count": 7,
   "id": "0f112f8b",
   "metadata": {},
   "outputs": [
    {
     "data": {
      "text/plain": [
       "Index(['id', 'age', 'gender', 'race', 'driving_experience', 'education',\n",
       "       'income', 'credit_score', 'vehicle_ownership', 'vehicle_year',\n",
       "       'married', 'children', 'postal_code', 'annual_mileage', 'vehicle_type',\n",
       "       'speeding_violations', 'duis', 'past_accidents', 'outcome'],\n",
       "      dtype='object')"
      ]
     },
     "execution_count": 7,
     "metadata": {},
     "output_type": "execute_result"
    }
   ],
   "source": [
    "df.columns = [i.lower() for i in df.columns]\n",
    "df.columns"
   ]
  },
  {
   "cell_type": "code",
   "execution_count": 8,
   "id": "4c546d36",
   "metadata": {},
   "outputs": [],
   "source": [
    "df.fillna(df[\"credit_score\"].mean(), inplace=True)\n",
    "df.fillna(df[\"annual_mileage\"].mean(), inplace=True)"
   ]
  },
  {
   "cell_type": "code",
   "execution_count": 9,
   "id": "1f0be0ce",
   "metadata": {},
   "outputs": [
    {
     "name": "stdout",
     "output_type": "stream",
     "text": [
      "<class 'pandas.core.frame.DataFrame'>\n",
      "RangeIndex: 10000 entries, 0 to 9999\n",
      "Data columns (total 19 columns):\n",
      " #   Column               Non-Null Count  Dtype  \n",
      "---  ------               --------------  -----  \n",
      " 0   id                   10000 non-null  int64  \n",
      " 1   age                  10000 non-null  object \n",
      " 2   gender               10000 non-null  object \n",
      " 3   race                 10000 non-null  object \n",
      " 4   driving_experience   10000 non-null  object \n",
      " 5   education            10000 non-null  object \n",
      " 6   income               10000 non-null  object \n",
      " 7   credit_score         10000 non-null  float64\n",
      " 8   vehicle_ownership    10000 non-null  float64\n",
      " 9   vehicle_year         10000 non-null  object \n",
      " 10  married              10000 non-null  float64\n",
      " 11  children             10000 non-null  float64\n",
      " 12  postal_code          10000 non-null  int64  \n",
      " 13  annual_mileage       10000 non-null  float64\n",
      " 14  vehicle_type         10000 non-null  object \n",
      " 15  speeding_violations  10000 non-null  int64  \n",
      " 16  duis                 10000 non-null  int64  \n",
      " 17  past_accidents       10000 non-null  int64  \n",
      " 18  outcome              10000 non-null  float64\n",
      "dtypes: float64(6), int64(5), object(8)\n",
      "memory usage: 1.4+ MB\n"
     ]
    }
   ],
   "source": [
    "df.info()"
   ]
  },
  {
   "cell_type": "code",
   "execution_count": 10,
   "id": "1b2a1edb",
   "metadata": {},
   "outputs": [
    {
     "data": {
      "text/html": [
       "<div>\n",
       "<style scoped>\n",
       "    .dataframe tbody tr th:only-of-type {\n",
       "        vertical-align: middle;\n",
       "    }\n",
       "\n",
       "    .dataframe tbody tr th {\n",
       "        vertical-align: top;\n",
       "    }\n",
       "\n",
       "    .dataframe thead th {\n",
       "        text-align: right;\n",
       "    }\n",
       "</style>\n",
       "<table border=\"1\" class=\"dataframe\">\n",
       "  <thead>\n",
       "    <tr style=\"text-align: right;\">\n",
       "      <th></th>\n",
       "      <th>id</th>\n",
       "      <th>age</th>\n",
       "      <th>gender</th>\n",
       "      <th>race</th>\n",
       "      <th>driving_experience</th>\n",
       "      <th>education</th>\n",
       "      <th>income</th>\n",
       "      <th>credit_score</th>\n",
       "      <th>vehicle_ownership</th>\n",
       "      <th>vehicle_year</th>\n",
       "      <th>married</th>\n",
       "      <th>children</th>\n",
       "      <th>postal_code</th>\n",
       "      <th>annual_mileage</th>\n",
       "      <th>vehicle_type</th>\n",
       "      <th>speeding_violations</th>\n",
       "      <th>duis</th>\n",
       "      <th>past_accidents</th>\n",
       "      <th>outcome</th>\n",
       "    </tr>\n",
       "  </thead>\n",
       "  <tbody>\n",
       "    <tr>\n",
       "      <th>0</th>\n",
       "      <td>569520</td>\n",
       "      <td>65+</td>\n",
       "      <td>female</td>\n",
       "      <td>majority</td>\n",
       "      <td>0-9y</td>\n",
       "      <td>high school</td>\n",
       "      <td>upper class</td>\n",
       "      <td>0.629027</td>\n",
       "      <td>1.0</td>\n",
       "      <td>after 2015</td>\n",
       "      <td>0.0</td>\n",
       "      <td>1.0</td>\n",
       "      <td>10238</td>\n",
       "      <td>12000.0</td>\n",
       "      <td>sedan</td>\n",
       "      <td>0</td>\n",
       "      <td>0</td>\n",
       "      <td>0</td>\n",
       "      <td>0.0</td>\n",
       "    </tr>\n",
       "    <tr>\n",
       "      <th>1</th>\n",
       "      <td>750365</td>\n",
       "      <td>16-25</td>\n",
       "      <td>male</td>\n",
       "      <td>majority</td>\n",
       "      <td>0-9y</td>\n",
       "      <td>none</td>\n",
       "      <td>poverty</td>\n",
       "      <td>0.357757</td>\n",
       "      <td>0.0</td>\n",
       "      <td>before 2015</td>\n",
       "      <td>0.0</td>\n",
       "      <td>0.0</td>\n",
       "      <td>10238</td>\n",
       "      <td>16000.0</td>\n",
       "      <td>sedan</td>\n",
       "      <td>0</td>\n",
       "      <td>0</td>\n",
       "      <td>0</td>\n",
       "      <td>1.0</td>\n",
       "    </tr>\n",
       "    <tr>\n",
       "      <th>2</th>\n",
       "      <td>199901</td>\n",
       "      <td>16-25</td>\n",
       "      <td>female</td>\n",
       "      <td>majority</td>\n",
       "      <td>0-9y</td>\n",
       "      <td>high school</td>\n",
       "      <td>working class</td>\n",
       "      <td>0.493146</td>\n",
       "      <td>1.0</td>\n",
       "      <td>before 2015</td>\n",
       "      <td>0.0</td>\n",
       "      <td>0.0</td>\n",
       "      <td>10238</td>\n",
       "      <td>11000.0</td>\n",
       "      <td>sedan</td>\n",
       "      <td>0</td>\n",
       "      <td>0</td>\n",
       "      <td>0</td>\n",
       "      <td>0.0</td>\n",
       "    </tr>\n",
       "    <tr>\n",
       "      <th>3</th>\n",
       "      <td>478866</td>\n",
       "      <td>16-25</td>\n",
       "      <td>male</td>\n",
       "      <td>majority</td>\n",
       "      <td>0-9y</td>\n",
       "      <td>university</td>\n",
       "      <td>working class</td>\n",
       "      <td>0.206013</td>\n",
       "      <td>1.0</td>\n",
       "      <td>before 2015</td>\n",
       "      <td>0.0</td>\n",
       "      <td>1.0</td>\n",
       "      <td>32765</td>\n",
       "      <td>11000.0</td>\n",
       "      <td>sedan</td>\n",
       "      <td>0</td>\n",
       "      <td>0</td>\n",
       "      <td>0</td>\n",
       "      <td>0.0</td>\n",
       "    </tr>\n",
       "    <tr>\n",
       "      <th>4</th>\n",
       "      <td>731664</td>\n",
       "      <td>26-39</td>\n",
       "      <td>male</td>\n",
       "      <td>majority</td>\n",
       "      <td>10-19y</td>\n",
       "      <td>none</td>\n",
       "      <td>working class</td>\n",
       "      <td>0.388366</td>\n",
       "      <td>1.0</td>\n",
       "      <td>before 2015</td>\n",
       "      <td>0.0</td>\n",
       "      <td>0.0</td>\n",
       "      <td>32765</td>\n",
       "      <td>12000.0</td>\n",
       "      <td>sedan</td>\n",
       "      <td>2</td>\n",
       "      <td>0</td>\n",
       "      <td>1</td>\n",
       "      <td>1.0</td>\n",
       "    </tr>\n",
       "  </tbody>\n",
       "</table>\n",
       "</div>"
      ],
      "text/plain": [
       "       id    age  gender      race driving_experience    education  \\\n",
       "0  569520    65+  female  majority               0-9y  high school   \n",
       "1  750365  16-25    male  majority               0-9y         none   \n",
       "2  199901  16-25  female  majority               0-9y  high school   \n",
       "3  478866  16-25    male  majority               0-9y   university   \n",
       "4  731664  26-39    male  majority             10-19y         none   \n",
       "\n",
       "          income  credit_score  vehicle_ownership vehicle_year  married  \\\n",
       "0    upper class      0.629027                1.0   after 2015      0.0   \n",
       "1        poverty      0.357757                0.0  before 2015      0.0   \n",
       "2  working class      0.493146                1.0  before 2015      0.0   \n",
       "3  working class      0.206013                1.0  before 2015      0.0   \n",
       "4  working class      0.388366                1.0  before 2015      0.0   \n",
       "\n",
       "   children  postal_code  annual_mileage vehicle_type  speeding_violations  \\\n",
       "0       1.0        10238         12000.0        sedan                    0   \n",
       "1       0.0        10238         16000.0        sedan                    0   \n",
       "2       0.0        10238         11000.0        sedan                    0   \n",
       "3       1.0        32765         11000.0        sedan                    0   \n",
       "4       0.0        32765         12000.0        sedan                    2   \n",
       "\n",
       "   duis  past_accidents  outcome  \n",
       "0     0               0      0.0  \n",
       "1     0               0      1.0  \n",
       "2     0               0      0.0  \n",
       "3     0               0      0.0  \n",
       "4     0               1      1.0  "
      ]
     },
     "execution_count": 10,
     "metadata": {},
     "output_type": "execute_result"
    }
   ],
   "source": [
    "df.head()"
   ]
  },
  {
   "cell_type": "code",
   "execution_count": 11,
   "id": "9ed4193b",
   "metadata": {},
   "outputs": [],
   "source": [
    "df.drop(columns=['id','postal_code'], inplace=True)"
   ]
  },
  {
   "cell_type": "code",
   "execution_count": 12,
   "id": "57a0073c",
   "metadata": {},
   "outputs": [
    {
     "data": {
      "text/plain": [
       "<AxesSubplot:>"
      ]
     },
     "execution_count": 12,
     "metadata": {},
     "output_type": "execute_result"
    },
    {
     "data": {
      "image/png": "[encoded data removed]",
      "text/plain": [
       "<Figure size 432x288 with 2 Axes>"
      ]
     },
     "metadata": {
      "needs_background": "light"
     },
     "output_type": "display_data"
    }
   ],
   "source": [
    "sns.heatmap(data = df.isnull(), cmap=\"viridis\")"
   ]
  },
  {
   "cell_type": "code",
   "execution_count": 13,
   "id": "e45467f4",
   "metadata": {},
   "outputs": [
    {
     "data": {
      "text/plain": [
       "<AxesSubplot:xlabel='credit_score', ylabel='Density'>"
      ]
     },
     "execution_count": 13,
     "metadata": {},
     "output_type": "execute_result"
    },
    {
     "data": {
      "image/png": "[encoded data removed]",
      "text/plain": [
       "<Figure size 432x288 with 1 Axes>"
      ]
     },
     "metadata": {
      "needs_background": "light"
     },
     "output_type": "display_data"
    }
   ],
   "source": [
    "sns.distplot(df['credit_score'])"
   ]
  },
  {
   "cell_type": "code",
   "execution_count": 14,
   "id": "6ea7dc68",
   "metadata": {},
   "outputs": [
    {
     "data": {
      "text/plain": [
       "<AxesSubplot:xlabel='annual_mileage', ylabel='Density'>"
      ]
     },
     "execution_count": 14,
     "metadata": {},
     "output_type": "execute_result"
    },
    {
     "data": {
      "image/png": "[encoded data removed]",
      "text/plain": [
       "<Figure size 432x288 with 1 Axes>"
      ]
     },
     "metadata": {
      "needs_background": "light"
     },
     "output_type": "display_data"
    }
   ],
   "source": [
    "sns.distplot(df['annual_mileage'])"
   ]
  },
  {
   "cell_type": "code",
   "execution_count": 15,
   "id": "632dd70f",
   "metadata": {},
   "outputs": [],
   "source": [
    "df['education'] = df['education'].apply(lambda x: ['none', 'high school', 'university'].index(x))\n",
    "df['income'] = df['income'].apply(lambda x: ['poverty','working class','middle class','upper class'].index(x))"
   ]
  },
  {
   "cell_type": "code",
   "execution_count": 16,
   "id": "cbfa4c6d",
   "metadata": {},
   "outputs": [
    {
     "data": {
      "text/plain": [
       "['age', 'gender', 'race', 'driving_experience', 'vehicle_year', 'vehicle_type']"
      ]
     },
     "execution_count": 16,
     "metadata": {},
     "output_type": "execute_result"
    }
   ],
   "source": [
    "obj_cols = [i for i in df.columns if df[i].dtype == 'O']\n",
    "obj_cols"
   ]
  },
  {
   "cell_type": "code",
   "execution_count": 17,
   "id": "8f5b9c84",
   "metadata": {},
   "outputs": [],
   "source": [
    "from sklearn.preprocessing import LabelEncoder, Normalizer, StandardScaler, MinMaxScaler"
   ]
  },
  {
   "cell_type": "code",
   "execution_count": 18,
   "id": "9178d3c8",
   "metadata": {},
   "outputs": [],
   "source": [
    "label_enc = LabelEncoder()"
   ]
  },
  {
   "cell_type": "code",
   "execution_count": 19,
   "id": "aa1b00b4",
   "metadata": {},
   "outputs": [],
   "source": [
    "for i in obj_cols:\n",
    "    df[i] = label_enc.fit_transform(df[i])"
   ]
  },
  {
   "cell_type": "code",
   "execution_count": 20,
   "id": "fba335bd",
   "metadata": {},
   "outputs": [
    {
     "data": {
      "text/html": [
       "<div>\n",
       "<style scoped>\n",
       "    .dataframe tbody tr th:only-of-type {\n",
       "        vertical-align: middle;\n",
       "    }\n",
       "\n",
       "    .dataframe tbody tr th {\n",
       "        vertical-align: top;\n",
       "    }\n",
       "\n",
       "    .dataframe thead th {\n",
       "        text-align: right;\n",
       "    }\n",
       "</style>\n",
       "<table border=\"1\" class=\"dataframe\">\n",
       "  <thead>\n",
       "    <tr style=\"text-align: right;\">\n",
       "      <th></th>\n",
       "      <th>age</th>\n",
       "      <th>gender</th>\n",
       "      <th>race</th>\n",
       "      <th>driving_experience</th>\n",
       "      <th>education</th>\n",
       "      <th>income</th>\n",
       "      <th>credit_score</th>\n",
       "      <th>vehicle_ownership</th>\n",
       "      <th>vehicle_year</th>\n",
       "      <th>married</th>\n",
       "      <th>children</th>\n",
       "      <th>annual_mileage</th>\n",
       "      <th>vehicle_type</th>\n",
       "      <th>speeding_violations</th>\n",
       "      <th>duis</th>\n",
       "      <th>past_accidents</th>\n",
       "      <th>outcome</th>\n",
       "    </tr>\n",
       "  </thead>\n",
       "  <tbody>\n",
       "    <tr>\n",
       "      <th>0</th>\n",
       "      <td>3</td>\n",
       "      <td>0</td>\n",
       "      <td>0</td>\n",
       "      <td>0</td>\n",
       "      <td>1</td>\n",
       "      <td>3</td>\n",
       "      <td>0.629027</td>\n",
       "      <td>1.0</td>\n",
       "      <td>0</td>\n",
       "      <td>0.0</td>\n",
       "      <td>1.0</td>\n",
       "      <td>12000.0</td>\n",
       "      <td>0</td>\n",
       "      <td>0</td>\n",
       "      <td>0</td>\n",
       "      <td>0</td>\n",
       "      <td>0.0</td>\n",
       "    </tr>\n",
       "    <tr>\n",
       "      <th>1</th>\n",
       "      <td>0</td>\n",
       "      <td>1</td>\n",
       "      <td>0</td>\n",
       "      <td>0</td>\n",
       "      <td>0</td>\n",
       "      <td>0</td>\n",
       "      <td>0.357757</td>\n",
       "      <td>0.0</td>\n",
       "      <td>1</td>\n",
       "      <td>0.0</td>\n",
       "      <td>0.0</td>\n",
       "      <td>16000.0</td>\n",
       "      <td>0</td>\n",
       "      <td>0</td>\n",
       "      <td>0</td>\n",
       "      <td>0</td>\n",
       "      <td>1.0</td>\n",
       "    </tr>\n",
       "    <tr>\n",
       "      <th>2</th>\n",
       "      <td>0</td>\n",
       "      <td>0</td>\n",
       "      <td>0</td>\n",
       "      <td>0</td>\n",
       "      <td>1</td>\n",
       "      <td>1</td>\n",
       "      <td>0.493146</td>\n",
       "      <td>1.0</td>\n",
       "      <td>1</td>\n",
       "      <td>0.0</td>\n",
       "      <td>0.0</td>\n",
       "      <td>11000.0</td>\n",
       "      <td>0</td>\n",
       "      <td>0</td>\n",
       "      <td>0</td>\n",
       "      <td>0</td>\n",
       "      <td>0.0</td>\n",
       "    </tr>\n",
       "    <tr>\n",
       "      <th>3</th>\n",
       "      <td>0</td>\n",
       "      <td>1</td>\n",
       "      <td>0</td>\n",
       "      <td>0</td>\n",
       "      <td>2</td>\n",
       "      <td>1</td>\n",
       "      <td>0.206013</td>\n",
       "      <td>1.0</td>\n",
       "      <td>1</td>\n",
       "      <td>0.0</td>\n",
       "      <td>1.0</td>\n",
       "      <td>11000.0</td>\n",
       "      <td>0</td>\n",
       "      <td>0</td>\n",
       "      <td>0</td>\n",
       "      <td>0</td>\n",
       "      <td>0.0</td>\n",
       "    </tr>\n",
       "    <tr>\n",
       "      <th>4</th>\n",
       "      <td>1</td>\n",
       "      <td>1</td>\n",
       "      <td>0</td>\n",
       "      <td>1</td>\n",
       "      <td>0</td>\n",
       "      <td>1</td>\n",
       "      <td>0.388366</td>\n",
       "      <td>1.0</td>\n",
       "      <td>1</td>\n",
       "      <td>0.0</td>\n",
       "      <td>0.0</td>\n",
       "      <td>12000.0</td>\n",
       "      <td>0</td>\n",
       "      <td>2</td>\n",
       "      <td>0</td>\n",
       "      <td>1</td>\n",
       "      <td>1.0</td>\n",
       "    </tr>\n",
       "  </tbody>\n",
       "</table>\n",
       "</div>"
      ],
      "text/plain": [
       "   age  gender  race  driving_experience  education  income  credit_score  \\\n",
       "0    3       0     0                   0          1       3      0.629027   \n",
       "1    0       1     0                   0          0       0      0.357757   \n",
       "2    0       0     0                   0          1       1      0.493146   \n",
       "3    0       1     0                   0          2       1      0.206013   \n",
       "4    1       1     0                   1          0       1      0.388366   \n",
       "\n",
       "   vehicle_ownership  vehicle_year  married  children  annual_mileage  \\\n",
       "0                1.0             0      0.0       1.0         12000.0   \n",
       "1                0.0             1      0.0       0.0         16000.0   \n",
       "2                1.0             1      0.0       0.0         11000.0   \n",
       "3                1.0             1      0.0       1.0         11000.0   \n",
       "4                1.0             1      0.0       0.0         12000.0   \n",
       "\n",
       "   vehicle_type  speeding_violations  duis  past_accidents  outcome  \n",
       "0             0                    0     0               0      0.0  \n",
       "1             0                    0     0               0      1.0  \n",
       "2             0                    0     0               0      0.0  \n",
       "3             0                    0     0               0      0.0  \n",
       "4             0                    2     0               1      1.0  "
      ]
     },
     "execution_count": 20,
     "metadata": {},
     "output_type": "execute_result"
    }
   ],
   "source": [
    "df.head()"
   ]
  },
  {
   "cell_type": "code",
   "execution_count": 21,
   "id": "1830fae4",
   "metadata": {},
   "outputs": [],
   "source": [
    "from sklearn.model_selection import train_test_split\n",
    "from sklearn.ensemble import RandomForestClassifier\n",
    "from sklearn.metrics import accuracy_score, confusion_matrix"
   ]
  },
  {
   "cell_type": "code",
   "execution_count": 22,
   "id": "9baf9004",
   "metadata": {},
   "outputs": [],
   "source": [
    "X = df.drop(columns=\"outcome\")\n",
    "y = df[['outcome']]"
   ]
  },
  {
   "cell_type": "code",
   "execution_count": 23,
   "id": "58f34542",
   "metadata": {},
   "outputs": [],
   "source": [
    "X_train, X_test, y_train, y_test = train_test_split(X, y, test_size=0.25, random_state=42)"
   ]
  },
  {
   "cell_type": "markdown",
   "id": "36c1684d",
   "metadata": {},
   "source": [
    "# Logistic Regression"
   ]
  },
  {
   "cell_type": "code",
   "execution_count": 24,
   "id": "3767913b",
   "metadata": {},
   "outputs": [
    {
     "name": "stdout",
     "output_type": "stream",
     "text": [
      "[[-2.46025542e-03  4.76196857e-01 -7.21731249e-02 -1.59575697e+00\n",
      "  -1.13652016e-02 -3.82014446e-02  7.04899092e-03 -7.67303420e-01\n",
      "   7.59058830e-01 -2.38658215e-01 -1.06671551e-01  3.27259901e-02\n",
      "   9.69986741e-04  1.74643089e-01  3.46165346e-02 -4.19683385e-01]]\n",
      "[-1.62549393]\n",
      "              precision    recall  f1-score   support\n",
      "\n",
      "         0.0       0.87      0.90      0.89      1723\n",
      "         1.0       0.77      0.71      0.74       777\n",
      "\n",
      "    accuracy                           0.84      2500\n",
      "   macro avg       0.82      0.81      0.81      2500\n",
      "weighted avg       0.84      0.84      0.84      2500\n",
      "\n"
     ]
    }
   ],
   "source": [
    "from sklearn.linear_model import LogisticRegression\n",
    "from sklearn.metrics import accuracy_score, classification_report, confusion_matrix\n",
    "#Scale it \n",
    "scaler = StandardScaler() \n",
    "X_train = scaler.fit_transform(X_train)\n",
    "X_test=scaler.transform(X_test)\n",
    "# Create instance (i.e. object) of LogisticRegression\n",
    "logmodel = LogisticRegression()\n",
    "# Fit the model using the training data\n",
    "# X_train -> parameter supplies the data features\n",
    "# y_train -> parameter supplies the target labels\n",
    "logmodel.fit(X_train, y_train)\n",
    "print(logmodel.coef_)\n",
    "print(logmodel.intercept_)\n",
    "#Predicting the target for test data\n",
    "predictions = logmodel.predict(X_test)\n",
    "predictions\n",
    "print(classification_report(y_test,predictions))\n",
    "#f1 is measure of accuracy of model"
   ]
  },
  {
   "cell_type": "markdown",
   "id": "2c4ebd5b",
   "metadata": {},
   "source": [
    "# K-Nearest Neighbours"
   ]
  },
  {
   "cell_type": "code",
   "execution_count": 25,
   "id": "93b0c05a",
   "metadata": {},
   "outputs": [
    {
     "name": "stdout",
     "output_type": "stream",
     "text": [
      "{1: 0.772, 2: 0.7828, 3: 0.7992, 4: 0.8044, 5: 0.8136, 6: 0.806, 7: 0.812, 8: 0.8112, 9: 0.8148, 10: 0.816, 11: 0.8152, 12: 0.816, 13: 0.8176, 14: 0.8156, 15: 0.8156, 16: 0.8172, 17: 0.8184, 18: 0.8168, 19: 0.8188, 20: 0.8152, 21: 0.8188, 22: 0.8172, 23: 0.8172, 24: 0.8168}\n"
     ]
    },
    {
     "data": {
      "text/plain": [
       "Text(0, 0.5, 'Testing Accuracy')"
      ]
     },
     "execution_count": 25,
     "metadata": {},
     "output_type": "execute_result"
    },
    {
     "data": {
      "image/png": "[encoded data removed]",
      "text/plain": [
       "<Figure size 432x288 with 1 Axes>"
      ]
     },
     "metadata": {
      "needs_background": "light"
     },
     "output_type": "display_data"
    }
   ],
   "source": [
    "from sklearn.neighbors import KNeighborsClassifier\n",
    "from sklearn import metrics\n",
    "# set k parameter\n",
    "\n",
    "k_range = range(1,25)\n",
    "scores = {}\n",
    "scores_list = []\n",
    "\n",
    "# calculate accuracy scores for each k\n",
    "for k in k_range:\n",
    "        knn = KNeighborsClassifier(n_neighbors=k)\n",
    "        knn.fit(X_train,y_train)\n",
    "        y_pred=knn.predict(X_test)\n",
    "        scores[k] = metrics.accuracy_score(y_test,y_pred)\n",
    "        scores_list.append(metrics.accuracy_score(y_test,y_pred))\n",
    "print(scores)\n",
    "# print(scores_list, \"\\n\")\n",
    "\n",
    "# plot score and k \n",
    "plt.plot(k_range,scores_list)\n",
    "plt.xlabel('Value of K for KNN')\n",
    "plt.ylabel('Testing Accuracy')"
   ]
  },
  {
   "cell_type": "code",
   "execution_count": 26,
   "id": "097e5cd1",
   "metadata": {},
   "outputs": [
    {
     "data": {
      "text/plain": [
       "{'n_neighbors': 13}"
      ]
     },
     "execution_count": 26,
     "metadata": {},
     "output_type": "execute_result"
    }
   ],
   "source": [
    "from sklearn.model_selection import GridSearchCV\n",
    "\n",
    "#create a dictionary of all values we want to test for n_neighbors\n",
    "param_grid = {'n_neighbors': np.arange(1, 25)}\n",
    "\n",
    "#use gridsearch to test all values for n_neighbors\n",
    "knn_gscv = GridSearchCV(knn, param_grid, cv=10)\n",
    "\n",
    "#fit model to data\n",
    "knn_gscv.fit(X_train, y_train)\n",
    "\n",
    "#check top performing n_neighbors value\n",
    "knn_gscv.best_params_"
   ]
  },
  {
   "cell_type": "code",
   "execution_count": 27,
   "id": "447aeafc",
   "metadata": {},
   "outputs": [
    {
     "name": "stdout",
     "output_type": "stream",
     "text": [
      "              precision    recall  f1-score   support\n",
      "\n",
      "         0.0       0.86      0.88      0.87      1723\n",
      "         1.0       0.72      0.68      0.70       777\n",
      "\n",
      "    accuracy                           0.82      2500\n",
      "   macro avg       0.79      0.78      0.78      2500\n",
      "weighted avg       0.82      0.82      0.82      2500\n",
      "\n",
      "[[1514  209]\n",
      " [ 247  530]]\n"
     ]
    }
   ],
   "source": [
    "knn = KNeighborsClassifier(n_neighbors=13)\n",
    "knn.fit(X_train,y_train)\n",
    "predictions = knn.predict(X_test)\n",
    "print(classification_report(y_test,predictions))\n",
    "print(confusion_matrix(y_test,predictions))"
   ]
  },
  {
   "cell_type": "markdown",
   "id": "49ecfa5e",
   "metadata": {},
   "source": [
    "# Decision TREE"
   ]
  },
  {
   "cell_type": "code",
   "execution_count": 28,
   "id": "8d293d1e",
   "metadata": {},
   "outputs": [
    {
     "name": "stdout",
     "output_type": "stream",
     "text": [
      "0.7712\n"
     ]
    },
    {
     "data": {
      "text/plain": [
       "array([[1425,  298],\n",
       "       [ 274,  503]])"
      ]
     },
     "execution_count": 28,
     "metadata": {},
     "output_type": "execute_result"
    }
   ],
   "source": [
    "from sklearn import tree\n",
    "from sklearn.model_selection import GridSearchCV\n",
    "from sklearn.tree import DecisionTreeClassifier\n",
    "\n",
    "dec_tree = DecisionTreeClassifier(random_state=42)\n",
    "dec_tree.fit(X_train, y_train)\n",
    "\n",
    "y_pred_dt = dec_tree.predict(X_test)\n",
    "print(accuracy_score(y_test, y_pred_dt))\n",
    "confusion_matrix(y_test, y_pred_dt)"
   ]
  },
  {
   "cell_type": "code",
   "execution_count": 29,
   "id": "325a5abc",
   "metadata": {},
   "outputs": [],
   "source": [
    "parameters = {'criterion':['gini','entropy'], \n",
    "              'max_depth':range(1,20), \n",
    "              'min_samples_split': range(2,20), \n",
    "              'min_samples_leaf':range(1,20),\n",
    "             'random_state': [42]}\n",
    "\n"
   ]
  },
  {
   "cell_type": "code",
   "execution_count": 30,
   "id": "d7691607",
   "metadata": {},
   "outputs": [
    {
     "name": "stdout",
     "output_type": "stream",
     "text": [
      "{'ccp_alpha': 0.0, 'class_weight': None, 'criterion': 'gini', 'max_depth': 5, 'max_features': None, 'max_leaf_nodes': None, 'min_impurity_decrease': 0.0, 'min_impurity_split': None, 'min_samples_leaf': 19, 'min_samples_split': 2, 'min_weight_fraction_leaf': 0.0, 'random_state': 42, 'splitter': 'best'}\n"
     ]
    }
   ],
   "source": [
    "clf_GS = GridSearchCV(dec_tree, parameters, cv=10, n_jobs=-1)\n",
    "clf_GS.fit(X_train, y_train)\n",
    "print(clf_GS.best_estimator_.get_params())"
   ]
  },
  {
   "cell_type": "code",
   "execution_count": 31,
   "id": "4d125736",
   "metadata": {},
   "outputs": [
    {
     "name": "stdout",
     "output_type": "stream",
     "text": [
      "0.8408\n",
      "              precision    recall  f1-score   support\n",
      "\n",
      "         0.0       0.88      0.90      0.89      1723\n",
      "         1.0       0.76      0.72      0.74       777\n",
      "\n",
      "    accuracy                           0.84      2500\n",
      "   macro avg       0.82      0.81      0.81      2500\n",
      "weighted avg       0.84      0.84      0.84      2500\n",
      "\n",
      "[[1544  179]\n",
      " [ 219  558]]\n"
     ]
    }
   ],
   "source": [
    "dec_tree = tree.DecisionTreeClassifier(max_depth=5, min_samples_leaf = 19, random_state = 42)\n",
    "dec_tree.fit(X_train, y_train)\n",
    "\n",
    "y_pred_dt = dec_tree.predict(X_test)\n",
    "print(accuracy_score(y_test, y_pred_dt))\n",
    "print(classification_report(y_test,y_pred_dt))\n",
    "print(confusion_matrix(y_test,y_pred_dt))"
   ]
  },
  {
   "cell_type": "markdown",
   "id": "c772172a",
   "metadata": {},
   "source": [
    "# Random Forest"
   ]
  },
  {
   "cell_type": "code",
   "execution_count": 32,
   "id": "2a8db122",
   "metadata": {},
   "outputs": [
    {
     "name": "stdout",
     "output_type": "stream",
     "text": [
      "0.8252\n"
     ]
    },
    {
     "data": {
      "text/plain": [
       "array([[1546,  177],\n",
       "       [ 260,  517]])"
      ]
     },
     "execution_count": 32,
     "metadata": {},
     "output_type": "execute_result"
    }
   ],
   "source": [
    "from sklearn.ensemble import RandomForestClassifier \n",
    "from sklearn.metrics import accuracy_score  \n",
    "rf_ = RandomForestClassifier(n_jobs=-1, random_state=42) \n",
    "rf_.fit(X_train, y_train)  \n",
    "y_pred_rf = rf_.predict(X_test) \n",
    "print(accuracy_score(y_test, y_pred_rf))\n",
    "confusion_matrix(y_test, y_pred_rf)"
   ]
  },
  {
   "cell_type": "code",
   "execution_count": 33,
   "id": "7cba36f6",
   "metadata": {},
   "outputs": [
    {
     "data": {
      "text/plain": [
       "{'min_samples_leaf': 11, 'n_estimators': 500, 'random_state': 42}"
      ]
     },
     "execution_count": 33,
     "metadata": {},
     "output_type": "execute_result"
    }
   ],
   "source": [
    "from sklearn.model_selection import GridSearchCV\n",
    "\n",
    "#create a dictionary of all values we want to test for n_neighbors\n",
    "param_grid = {'n_estimators': np.arange(100,501,100),\n",
    "             'min_samples_leaf': np.arange(1,20, 1), \n",
    "             'random_state': [42]}\n",
    "\n",
    "#use gridsearch to test all values for n_neighbors\n",
    "rf_gscv = GridSearchCV(rf_, param_grid, cv=10)\n",
    "\n",
    "#fit model to data\n",
    "rf_gscv.fit(X_train, y_train)\n",
    "\n",
    "#check top performing n_neighbors value\n",
    "rf_gscv.best_params_"
   ]
  },
  {
   "cell_type": "code",
   "execution_count": 34,
   "id": "bcd98fdb",
   "metadata": {},
   "outputs": [
    {
     "name": "stdout",
     "output_type": "stream",
     "text": [
      "0.8344\n"
     ]
    },
    {
     "data": {
      "text/plain": [
       "array([[1549,  174],\n",
       "       [ 240,  537]])"
      ]
     },
     "execution_count": 34,
     "metadata": {},
     "output_type": "execute_result"
    }
   ],
   "source": [
    "rf_ = RandomForestClassifier(n_estimators=500, min_samples_leaf=11, n_jobs=-1, random_state=42) \n",
    "rf_.fit(X_train, y_train)  \n",
    "y_pred_rf = rf_.predict(X_test) \n",
    "print(accuracy_score(y_test, y_pred_rf))\n",
    "confusion_matrix(y_test, y_pred_rf)"
   ]
  },
  {
   "cell_type": "markdown",
   "id": "5ddc9f5f",
   "metadata": {},
   "source": [
    "# Cross Validation to select model"
   ]
  },
  {
   "cell_type": "code",
   "execution_count": 35,
   "id": "d14222f2",
   "metadata": {},
   "outputs": [
    {
     "name": "stdout",
     "output_type": "stream",
     "text": [
      "Logistic Regression CV score: 0.799\n",
      "KNN CV score: 0.8073\n",
      "Decision Tree CV score: 0.8382999999999999\n",
      "Random Forest CV score: 0.8375999999999999\n"
     ]
    }
   ],
   "source": [
    "from sklearn.model_selection import cross_val_score\n",
    "\n",
    "print(f\"Logistic Regression CV score: {(cross_val_score(logmodel, X,y, cv=10, scoring= 'accuracy').mean())}\")\n",
    "print(f\"KNN CV score: {cross_val_score(knn, X,y, cv=10, scoring='accuracy').mean()}\")\n",
    "print(f\"Decision Tree CV score: {cross_val_score(dec_tree, X,y, cv=10, scoring='accuracy').mean()}\")\n",
    "print(f\"Random Forest CV score: {cross_val_score(rf_, X,y, cv=10, scoring='accuracy').mean()}\")\n"
   ]
  },
  {
   "cell_type": "code",
   "execution_count": 36,
   "id": "1cf50bb9",
   "metadata": {},
   "outputs": [
    {
     "name": "stdout",
     "output_type": "stream",
     "text": [
      "Logistic Regression Recall: 0.5774963879448933\n",
      "KNN Recall: 0.6447498015913392\n",
      "Decision Tree Recall: 0.7194511711198388\n",
      "Random Forest Recall: 0.7120988583870902\n"
     ]
    }
   ],
   "source": [
    "print(f\"Logistic Regression Recall: {(cross_val_score(logmodel, X,y, cv=10, scoring= 'recall').mean())}\")\n",
    "print(f\"KNN Recall: {cross_val_score(knn, X,y, cv=10, scoring='recall').mean()}\")\n",
    "print(f\"Decision Tree Recall: {cross_val_score(dec_tree, X,y, cv=10, scoring='recall').mean()}\")\n",
    "print(f\"Random Forest Recall: {cross_val_score(rf_, X,y, cv=10, scoring='recall').mean()}\")"
   ]
  },
  {
   "cell_type": "code",
   "execution_count": null,
   "id": "20465625",
   "metadata": {},
   "outputs": [],
   "source": []
  }
 ],
 "metadata": {
  "kernelspec": {
   "display_name": "Python 3",
   "language": "python",
   "name": "python3"
  },
  "language_info": {
   "codemirror_mode": {
    "name": "ipython",
    "version": 3
   },
   "file_extension": ".py",
   "mimetype": "text/x-python",
   "name": "python",
   "nbconvert_exporter": "python",
   "pygments_lexer": "ipython3",
   "version": "3.8.8"
  }
 },
 "nbformat": 4,
 "nbformat_minor": 5
}
